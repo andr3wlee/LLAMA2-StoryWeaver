{
  "nbformat": 4,
  "nbformat_minor": 0,
  "metadata": {
    "colab": {
      "provenance": []
    },
    "kernelspec": {
      "name": "python3",
      "display_name": "Python 3"
    },
    "language_info": {
      "name": "python"
    }
  },
  "cells": [
    {
      "cell_type": "code",
      "source": [
        "5"
      ],
      "metadata": {
        "id": "5K82avSLM1a5"
      },
      "execution_count": null,
      "outputs": []
    },
    {
      "cell_type": "code",
      "source": [
        "!pip install gradientai --upgrade"
      ],
      "metadata": {
        "id": "wak76xYYUdXE"
      },
      "execution_count": null,
      "outputs": []
    },
    {
      "cell_type": "code",
      "source": [
        "import os\n",
        "os.environ['GRADIENT_ACCESS_TOKEN'] = \"Cj5VQNurlMif7ah787NUrrh1eC7giM59\"\n",
        "os.environ['GRADIENT_WORKSPACE_ID'] = \"5d7079c4-d3d7-48b8-ae72-eb0c0b4f2170_workspace\""
      ],
      "metadata": {
        "id": "U02ytLrPA2rG"
      },
      "execution_count": null,
      "outputs": []
    },
    {
      "cell_type": "code",
      "source": [
        "from gradientai import Gradient\n",
        "\n",
        "def initialize_model(gradient, base_model_slug=\"llama2-7b-chat\", model_name=\"Writers/Story Test Model\"):\n",
        "    base_model = gradient.get_base_model(base_model_slug=base_model_slug)\n",
        "    new_model_adapter = base_model.create_model_adapter(name=model_name)\n",
        "\n",
        "    print(f\"Created model adapter with id {new_model_adapter.id}\")\n",
        "    sample_query = \"### Instruction: I need a plot idea for a murder mystery story set in a distant rural town. \\n\\n### Response:\"\n",
        "    print(f\"Asking: {sample_query}\")\n",
        "\n",
        "    completion = new_model_adapter.complete(query=sample_query, max_generated_token_count=500).generated_output\n",
        "    print(f\"Generated (before fine-tune): {completion}\")\n",
        "    return new_model_adapter\n",
        "\n",
        "def fine_tune_model(model_adapter, samples, num_epochs=3):\n",
        "    for epoch in range(num_epochs):\n",
        "        print(f\"Fine-tuning the model, iteration {epoch + 1}\")\n",
        "        model_adapter.fine_tune(samples=samples)\n",
        "\n",
        "def generate_output(model_adapter, query, max_tokens=500):\n",
        "    completion = model_adapter.complete(query=query, max_generated_token_count=max_tokens).generated_output\n",
        "    print(f\"Generated (after fine-tuning): {completion}\")\n",
        "\n",
        "def main():\n",
        "    with Gradient() as gradient:\n",
        "        model_adapter = initialize_model(gradient)\n",
        "        samples = load_samples()  # Assume this function loads samples from an external source\n",
        "\n",
        "        # Fine-tuning\n",
        "        fine_tune_model(model_adapter, samples)\n",
        "\n",
        "        # Generating output before and after fine-tuning\n",
        "        sample_query = \"### Instruction: I need to write a murder mystery set in a city where a detective investigates a string of seemingly accidental deaths within an influential social circle. As the detective digs deeper, uncover hidden secrets, betrayals, and agendas that link the victims to the city's elite, leading to a suspenseful revelation of the truth. \\n\\n### Response:\"\n",
        "        generate_output(model_adapter, sample_query)\n",
        "\n",
        "        model_adapter.delete()\n",
        "\n",
        "def load_samples():\n",
        "    samples = [\n",
        "    {\n",
        "        \"inputs\": \"### Instruction: Write a story about ten strangers lured to a remote island, systematically murdered one by one, leading to a thrilling investigation into their dark secrets and the killer's identity. \\n\\n### Response: Title: 'And Then There were None’ \\n\\nSetting: 'And Then There Were None' is set on a secluded island off the Devon coast. Ten strangers are invited to 'Soldier Island' by an unknown host, creating a tense atmosphere due to isolation.\\n\\nCharacters:\\n- Judge Lawrence Wargrave: A retired judge and leader. Reveals a sadistic pleasure in murder.\\n- Vera Claythorne: Former governess with a dark past.\\n- Philip Lombard: A bold and resourceful man.\\n- Dr. Edward George Armstrong: A gullible doctor with a weak personality.\\n- William Henry Blore: A former corrupt policeman.\\n- Emily Brent: A ruthlessly religious woman.\\n- General John Gordon Macarthur: Accused of a past crime.\\n- Thomas Rogers: The dignified butler.\\n- Ethel Rogers: Rogers’s wife, controlled by her husband.\\n- Anthony Marston: Reckless youth with no remorse.\\n- Isaac Morris: A shady character hired by the murderer.\\n\\nPlot Summary: Ten strangers receive invitations to a secluded island, each with different expectations. They are accused of murder by a recorded voice and begin dying one by one, mirroring a nursery rhyme. Paranoia ensues as they search for the killer. Ultimately, it's revealed that Judge Wargrave orchestrated the murders as a form of twisted justice.\"\n",
        "    },\n",
        "    {\n",
        "        \"inputs\": \"### Instruction: Develop a story revolving around a murder mystery on a train, where the detective Hercule Poirot investigates the complex web of passengers’ secrets to solve the case. \\n\\n### Response: Title: 'Murder On The Orient Express' \\n\\nSetting: Aboard the luxurious Orient Express, traveling through Europe during a harsh winter. \\n\\nCharacters: \\n- Hercule Poirot: A famous Belgian detective. \\n- Ratchett: A shady businessman with a hidden past. \\n- Various passengers: A diverse group with secrets and motives. \\n\\nPlot Summary: Poirot boards the Orient Express, which gets stopped by a snowdrift. Ratchett is found murdered. Poirot discovers each passenger had a motive linked to Ratchett’s true identity - a gangster involved in a kidnapping case. The plot reveals a collective act of revenge, with each passenger playing a role in the murder.\"\n",
        "\n",
        "    },\n",
        "    {\n",
        "        \"inputs\": \"### Instruction: Craft a narrative about a detective unraveling a complex murder mystery in a small village, where everyone seems to have secrets. \\n\\n### Response: Title: 'The Murder Of Roger Ackroyd' \\n\\nSetting: The peaceful village of King's Abbot in England. \\n\\nCharacters: \\n- Hercule Poirot: A retired detective living incognito. \\n- Roger Ackroyd: A wealthy man with secrets. \\n- Dr. Sheppard: The narrator and local doctor. \\n\\nPlot Summary: Poirot investigates the murder of Roger Ackroyd, found stabbed in his study. The twist is that the narrator, Dr. Sheppard, is the murderer, having used his position as the story's narrator to mislead the reader.\"\n",
        "\n",
        "    },\n",
        "    {\n",
        "        \"inputs\": \"### Instruction: Write a story set on a river cruise in Egypt, where a series of murders occur, and a detective must sift through complex relationships to find the killer. \\n\\n### Response: Title: 'Death On The Nile' \\n\\nSetting: A luxury cruise along the Nile River in Egypt. \\n\\nCharacters: \\n- Hercule Poirot: A famous detective on vacation. \\n- Linnet Ridgeway: A wealthy heiress. \\n- Jacqueline de Bellefort: Linnet’s former friend with a grudge. \\n- Other colorful passengers: Each with their own secrets. \\n\\nPlot Summary: Poirot investigates when Linnet Ridgeway is found shot. The investigation reveals a plot by Jacqueline and Linnet’s husband, Simon, to murder Linnet for her money.\"\n",
        "\n",
        "    },\n",
        "    {\n",
        "        \"inputs\": \"### Instruction: Compose a tale where a detective re-investigates a historic murder case, relying on the testimonies and memories of five witnesses to uncover the truth. \\n\\n### Response: Title: 'Five Little Pigs' \\n\\nSetting: The English countryside, with flashbacks spanning 16 years. \\n\\nCharacters: \\n- Hercule Poirot: A renowned detective. \\n- Carla Lemarchant: Seeking to clear her mother's name. \\n- Five witnesses: Each present on the day of the murder. \\n\\nPlot Summary: Poirot reopens the case of Carla’s father's murder. Through interviews, he discovers that a different guest committed the murder, motivated by jealousy and love.\"\n",
        "\n",
        "    },\n",
        "    {\n",
        "        \"inputs\": \"### Instruction: Create a story about a series of murders following a sequence and the race to stop the killer before they complete their deadly alphabetical agenda. \\n\\n### Response: Title: 'The A.B.C. Murders' \\n\\nSetting: Various locations in England, each corresponding to a letter in the alphabet. \\n\\nCharacters: \\n- Hercule Poirot: A famous detective. \\n- Captain Hastings: Poirot's friend. \\n- A.B.C. killer: A mysterious serial killer. \\n\\nPlot Summary: A killer, known as A.B.C., commits murders in alphabetical order. Poirot receives challenge letters from the killer. The investigation reveals the killer's true motive – to kill an unsuspecting woman as part of a personal vendetta.\"\n",
        "\n",
        "    },\n",
        "    {\n",
        "        \"inputs\": \"### Instruction: Devise a story where an aging detective solves his final case, facing a unique killer whose method involves manipulating others to commit murder. \\n\\n### Response: Title: 'Curtain: Poirot’s Last Case' \\n\\nSetting: Styles Court, now a guest house. \\n\\nCharacters: \\n- Hercule Poirot: An elderly and infirm detective. \\n- Captain Hastings: Poirot's friend. \\n- Various guests: Staying at Styles. \\n\\nPlot Summary: Poirot investigates a series of murders. He identifies a 'murderer' who manipulates others to kill. Poirot takes the extreme step of executing the manipulator himself, concluding his career as a detective.\"\n",
        "\n",
        "    },\n",
        "    {\n",
        "        \"inputs\": \"### Instruction: Weave a story set in a holiday resort, where the murder of a glamorous guest leads to an investigation that uncovers deep-seated jealousy and deceit. \\n\\n### Response: Title: 'Evil Under The Sun' \\n\\nSetting: The Jolly Roger Hotel, a coastal resort. \\n\\nCharacters: \\n- Hercule Poirot: A famous detective. \\n- Arlena Marshall: A beautiful actress. \\n- Other hotel guests: Each with their own motives. \\n\\nPlot Summary: Arlena is found strangled on the beach. Poirot discovers a complex web of relationships, leading to the revelation that Arlena’s husband and stepdaughter plotted her murder to secure her wealth.\"\n",
        "\n",
        "    },\n",
        "    {\n",
        "        \"inputs\": \"### Instruction: Frame a narrative around a murder announced in a local newspaper, leading to a gathering where the murder actually occurs, and the subsequent investigation. \\n\\n### Response: Title: 'A Murder Is Announced' \\n\\nSetting: The village of Chipping Cleghorn in England. \\n\\nCharacters: \\n- Miss Marple: An amateur detective. \\n- Various villagers: Each with their own secrets. \\n\\nPlot Summary: A murder is announced in the local paper, inviting guests to a party where a murder occurs. Miss Marple uncovers a plot revolving around inheritance and identity fraud, leading to the revelation of the criminal's true identity.\"\n",
        "\n",
        "    },\n",
        "    {\n",
        "        \"inputs\": \"### Instruction: Formulate a story where a seemingly perfect love story gradually reveals sinister undertones, culminating in tragedy and betrayal. \\n\\n### Response: Title: 'Endless Night' \\n\\nSetting: A grand estate in the English countryside. \\n\\nCharacters: \\n- Michael Rogers: A young man. \\n- Ellie: A wealthy heiress. \\n- Other local characters: Each with their own stories. \\n\\nPlot Summary: Michael marries Ellie and builds a dream house. Tragic events lead to Ellie’s death. The story reveals that Michael plotted with his lover to kill Ellie for her fortune, only to be consumed by guilt and madness.\"\n",
        "\n",
        "    }\n",
        "\n",
        "\n",
        "    ]\n",
        "    return samples\n",
        "\n",
        "if __name__ == \"__main__\":\n",
        "    main()"
      ],
      "metadata": {
        "id": "Scor9o08VVhQ",
        "colab": {
          "base_uri": "https://localhost:8080/"
        },
        "outputId": "3e51fa1a-edd0-4e67-e468-7a104ec67202"
      },
      "execution_count": null,
      "outputs": [
        {
          "output_type": "stream",
          "name": "stdout",
          "text": [
            "Created model adapter with id 95bf8ac8-51fa-4b7a-805b-7c985be276df_model_adapter\n",
            "Asking: ### Instruction: I need a plot idea for a murder mystery story set in a distant rural town. \n",
            "\n",
            "### Response:\n",
            "Generated (before fine-tune):  Sure, I'd be happy to help you come up with a plot idea for a murder mystery story set in a distant rural town. Here's an idea:\n",
            "\n",
            "Title: The Shadow in the Woods\n",
            "\n",
            "Setting: A small, rural town nestled in the heart of a dense forest. The town is home to a few hundred residents, most of whom are farmers, loggers, or hunters. The town is isolated, with the only way in or out being a winding dirt road that cuts through the forest.\n",
            "\n",
            "Plot Idea:\n",
            "\n",
            "A body is found in the woods, near the edge of town. The victim is a young woman, and she's been brutally murdered. The local sheriff, a grizzled old man named Jack, is stumped. He's been investigating crimes in this small town for over 20 years, but he's never seen anything like this before.\n",
            "\n",
            "As the investigation unfolds, Jack discovers that the victim was not who she seemed to be. She was, in fact, a stranger who had arrived in town just a few days before her death. The only clue is a small, intricately carved wooden box that was found near the body. The box is adorned with strange symbols and markings, and Jack can't figure out what they mean.\n",
            "\n",
            "As Jack delves deeper into the case, he realizes that the murder is connected to a larger conspiracy involving the town's residents. It seems that the victim was not the only stranger to have arrived in town recently. There have been other sightings of strange people lurking in the woods, and some of the town's residents have gone missing.\n",
            "\n",
            "Jack must navigate the complex web of relationships and secrets among the town's residents to uncover the truth behind the murder. He must also confront his own demons, as the investigation brings up painful memories from his past.\n",
            "\n",
            "As the story unfolds, Jack discovers that the murder is connected to an ancient cult that has been operating in secret in the town for generations. The cult is obsessed with gaining immortality, and they will stop at nothing to achieve their goal. The victim was just a pawn in their game, and the town's residents are in grave danger.\n",
            "\n",
            "As\n",
            "Fine-tuning the model, iteration 1\n",
            "Fine-tuning the model, iteration 2\n",
            "Fine-tuning the model, iteration 3\n",
            "Generated (after fine-tuning):  Title: The City's Secret. \n",
            "\n",
            "Setting: A fictional city, where the elite social circle holds sway. \n",
            "\n",
            "Characters: \n",
            "- Detective Jameson: A seasoned investigator with a sharp mind and a knack for piecing together seemingly unrelated events. \n",
            "- Lady Victoria: A charming socialite with a hidden agenda. \n",
            "- Lord Edgar: A wealthy businessman with a dark past. \n",
            "- Dr. Eliza: A brilliant scientist with a mysterious connection to the victims. \n",
            "- Inspector Hastings: Jameson's loyal partner. \n",
            "\n",
            "Plot Summary: \n",
            "- The story begins with the death of Lady Victoria's husband, followed by a series of seemingly accidental deaths among the city's elite. \n",
            "- Jameson investigates, uncovering a complex web of secrets and motives. \n",
            "- As he delves deeper, he discovers a sinister plot involving Lady Victoria, Lord Edgar, and Dr. Eliza. \n",
            "- The trio had been manipulating the victims, using them as pawns in a larger scheme. \n",
            "- The investigation leads to a dramatic confrontation, where Jameson exposes the truth and brings the perpetrators to justice. \n",
            "\n",
            "Themes: \n",
            "- The story explores the themes of power, manipulation, and the lengths people will go to maintain their position in society. \n",
            "- It also highlights the detective's keen mind and his ability to unravel complex mysteries. \n",
            "\n",
            "Genre: Murder Mystery. \n",
            "\n",
            "Target Audience: Fans of classic murder mysteries, particularly those by Agatha Christie. \n",
            "\n",
            "Word Count: 70,000 words. \n",
            "\n",
            "Pitch: In this gripping murder mystery, Detective Jameson uncovers a sinister plot involving the city's elite, leading to a thrilling revelation of the truth. With its intricate plot and complex characters, The City's Secret is a must-read for fans of the genre.\n"
          ]
        }
      ]
    }
  ]
}